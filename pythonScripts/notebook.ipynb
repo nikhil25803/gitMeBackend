{
 "cells": [
  {
   "cell_type": "code",
   "execution_count": 1,
   "metadata": {},
   "outputs": [],
   "source": [
    "import json\n",
    "import requests\n",
    "from bs4 import BeautifulSoup"
   ]
  },
  {
   "cell_type": "code",
   "execution_count": 5,
   "metadata": {},
   "outputs": [
    {
     "data": {
      "text/plain": [
       "16756"
      ]
     },
     "execution_count": 5,
     "metadata": {},
     "output_type": "execute_result"
    }
   ],
   "source": [
    "with open('repositories.json') as fp:\n",
    "    file = json.load(fp)\n",
    "\n",
    "len(file)"
   ]
  },
  {
   "cell_type": "code",
   "execution_count": 3,
   "metadata": {},
   "outputs": [],
   "source": [
    "\n",
    "\n",
    "\n",
    "def repo_details(repoList):\n",
    "    pullRequests_list = []\n",
    "    contributors_list = []\n",
    "    stars_count = []\n",
    "    fork_count = []\n",
    "    issue_count = []\n",
    "    languages_used = []\n",
    "\n",
    "    count = 0\n",
    "    for i in range(len(repoList)):\n",
    "        repo_url = f\"https://github.com/{repoList[i]}\"\n",
    "\n",
    "        data = requests.get(url=repo_url)\n",
    "        soup = BeautifulSoup(data.content, \"html.parser\")\n",
    "\n",
    "        # Fetching Pull Request numbers\n",
    "        try:\n",
    "            pullCount = soup.find(id='pull-requests-repo-tab-count')\n",
    "            pullValue = int(pullCount.string)\n",
    "            pullValue = int(pullValue)\n",
    "            pullRequests_list.append(pullValue)\n",
    "        except:\n",
    "            pullRequests_list.append(0)\n",
    "\n",
    "        # Fetching Contributors numbers\n",
    "        try:\n",
    "            con = soup.find_all(class_='Counter')\n",
    "            contributorsValue = int(con[-1].string)\n",
    "            contributors_list.append(contributorsValue)\n",
    "        except:\n",
    "            contributors_list.append(0)\n",
    "\n",
    "        # Fetching Stars count\n",
    "        try:\n",
    "            starCount = soup.find(id='repo-stars-counter-star')\n",
    "            starValue = int(starCount.string)\n",
    "            stars_count.append(starValue)\n",
    "        except:\n",
    "            stars_count.append(0)\n",
    "\n",
    "        # Fetching Forks count\n",
    "        try:\n",
    "            forks = soup.find(id='repo-network-counter')\n",
    "            forkValue = int(forks.string)\n",
    "            fork_count.append(forkValue)\n",
    "        except:\n",
    "            fork_count.append(0)\n",
    "\n",
    "        # Fetching issue count\n",
    "        try:\n",
    "            issues = soup.find(id='issues-repo-tab-count')\n",
    "            issueValue = int(issues.string)\n",
    "            issue_count.append(issueValue)\n",
    "        except:\n",
    "            issue_count.append(0)\n",
    "\n",
    "        # Fetching the most used language\n",
    "        try:\n",
    "            lang = soup.find(class_=\"color-fg-default text-bold mr-1\")\n",
    "            lang_value = lang.string\n",
    "            languages_used.append(lang_value)\n",
    "        except:\n",
    "            languages_used.append('NULL')\n",
    "\n",
    "        count += 1\n",
    "        print(f\"Data of the repo {repoList[i]} have been fetched\")\n",
    "        print(f\"------  Count = {count}  ------\\n\")\n",
    "\n",
    "    return (pullRequests_list, contributors_list, stars_count, fork_count,\n",
    "            issue_count, languages_used ,len(pullRequests_list), len(contributors_list),\n",
    "            len(starCount), len(fork_count), len(issue_count), len(languages_used))\n"
   ]
  },
  {
   "cell_type": "code",
   "execution_count": 4,
   "metadata": {},
   "outputs": [
    {
     "name": "stdout",
     "output_type": "stream",
     "text": [
      "Data of the repo nikhil25803/LearnCPP have been fetched\n",
      "------  Count = 1  ------\n",
      "\n",
      "Data of the repo nikhil25803/fundRaiser have been fetched\n",
      "------  Count = 2  ------\n",
      "\n",
      "([0, 0], [0, 0], [0, 0], [479, 0], [0, 0], ['C++', 'Python'], 2, 2, 1, 2, 2, 2)\n"
     ]
    }
   ],
   "source": [
    "test_users = ['nikhil25803/LearnCPP', 'nikhil25803/fundRaiser']\n",
    "result = repo_details(file)\n",
    "print(result)\n",
    "\n",
    "with open('pull_requests.json', 'w') as fp:\n",
    "    json.dump(result[0], fp)\n",
    "\n",
    "with open('contributors.json', 'w') as fp:\n",
    "    json.dump(result[1], fp)\n",
    "\n",
    "with open('stars.json', 'w') as fp:\n",
    "    json.dump(result[2], fp)\n",
    "\n",
    "with open('forks.json', 'w') as fp:\n",
    "    json.dump(result[3], fp)\n",
    "\n",
    "with open('issues.json', 'w') as fp:\n",
    "    json.dump(result[4], fp)\n",
    "\n",
    "with open('languages.json', 'w') as fp:\n",
    "    json.dump(result[5], fp)"
   ]
  },
  {
   "cell_type": "code",
   "execution_count": null,
   "metadata": {},
   "outputs": [],
   "source": []
  }
 ],
 "metadata": {
  "kernelspec": {
   "display_name": "Python 3.10.4 64-bit",
   "language": "python",
   "name": "python3"
  },
  "language_info": {
   "codemirror_mode": {
    "name": "ipython",
    "version": 3
   },
   "file_extension": ".py",
   "mimetype": "text/x-python",
   "name": "python",
   "nbconvert_exporter": "python",
   "pygments_lexer": "ipython3",
   "version": "3.10.4"
  },
  "orig_nbformat": 4,
  "vscode": {
   "interpreter": {
    "hash": "49925a85a85dac8a2dca5afbebde9d93135fdd4b812dbf89ef8044a5eedbb9bf"
   }
  }
 },
 "nbformat": 4,
 "nbformat_minor": 2
}
